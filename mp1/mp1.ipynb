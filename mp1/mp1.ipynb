{
 "cells": [
  {
   "cell_type": "code",
   "execution_count": 1,
   "id": "3ecc25f2-0ca8-458f-bae9-d374cbbc349c",
   "metadata": {},
   "outputs": [],
   "source": [
    "# project: p1\n",
    "# submitter: Megan Kuo\n",
    "# hours: ????"
   ]
  },
  {
   "cell_type": "code",
   "execution_count": 2,
   "id": "d4a622b8-00f5-48f6-8f80-11aa50e90e8c",
   "metadata": {},
   "outputs": [],
   "source": [
    "# import statements\n",
    "import json\n",
    "import copy\n",
    "import os\n",
    "import pandas as pd\n",
    "import matplotlib.pyplot as plt\n",
    "import subprocess\n",
    "import time\n",
    "import numpy as np"
   ]
  },
  {
   "cell_type": "code",
   "execution_count": 3,
   "id": "b65ec6a3-ce4a-4238-a707-c8231eb8985a",
   "metadata": {},
   "outputs": [
    {
     "data": {
      "text/plain": [
       "float"
      ]
     },
     "execution_count": 3,
     "metadata": {},
     "output_type": "execute_result"
    }
   ],
   "source": [
    "#Q1\n",
    "type(8/3)"
   ]
  },
  {
   "cell_type": "code",
   "execution_count": 4,
   "id": "50d1decc-d242-4434-92a2-6f9bd9cc632a",
   "metadata": {},
   "outputs": [
    {
     "data": {
      "text/plain": [
       "True"
      ]
     },
     "execution_count": 4,
     "metadata": {},
     "output_type": "execute_result"
    }
   ],
   "source": [
    "#Q2\n",
    "x = 4\n",
    "maximum = 15\n",
    "minimum = 5\n",
    "error = not (minimum<=x<=maximum) # False if x is inside the minimum-to-maximum range\n",
    "error\n"
   ]
  },
  {
   "cell_type": "code",
   "execution_count": 5,
   "id": "07fd0c5c-eeaa-4804-bd06-615c38f05e84",
   "metadata": {},
   "outputs": [
    {
     "data": {
      "text/plain": [
       "True"
      ]
     },
     "execution_count": 5,
     "metadata": {},
     "output_type": "execute_result"
    }
   ],
   "source": [
    "#Q3\n",
    "word = \"QUOTIDIAN\"\n",
    "suffix_match = word[-len('IAN'):].lower() == 'IAN'.lower() # .endswith(...) method not allowed for this question! (practice slicing)\n",
    "suffix_match\n"
   ]
  },
  {
   "cell_type": "code",
   "execution_count": 6,
   "id": "62bf7ad7-4dfd-4243-be5d-b0335a39a297",
   "metadata": {},
   "outputs": [],
   "source": [
    "def check_sum(x=0, y=0, sum=0):\n",
    "    if x+y == sum:\n",
    "        return True\n",
    "    return False"
   ]
  },
  {
   "cell_type": "code",
   "execution_count": 7,
   "id": "d29ef5f5-c7bd-446d-8a2d-877e505c7421",
   "metadata": {},
   "outputs": [
    {
     "data": {
      "text/plain": [
       "False"
      ]
     },
     "execution_count": 7,
     "metadata": {},
     "output_type": "execute_result"
    }
   ],
   "source": [
    "#Q4\n",
    "check_sum(0.1, 0.2, 0.3)"
   ]
  },
  {
   "cell_type": "code",
   "execution_count": 8,
   "id": "5e0bd55f-f493-401d-87e0-6087de8571b6",
   "metadata": {},
   "outputs": [
    {
     "data": {
      "text/plain": [
       "True"
      ]
     },
     "execution_count": 8,
     "metadata": {},
     "output_type": "execute_result"
    }
   ],
   "source": [
    "#Q5\n",
    "check_sum(-1, 1)"
   ]
  },
  {
   "cell_type": "code",
   "execution_count": 9,
   "id": "ed8be1f0-f38f-4f2c-bd3b-ae507ea0da7c",
   "metadata": {},
   "outputs": [
    {
     "data": {
      "text/plain": [
       "'even'"
      ]
     },
     "execution_count": 9,
     "metadata": {},
     "output_type": "execute_result"
    }
   ],
   "source": [
    "#Q6\n",
    "x = 4\n",
    "if x%2==1:\n",
    "    status = \"odd\"\n",
    "elif x%2==0:\n",
    "    status = \"even\"\n",
    "else:\n",
    "    status = \"non-integer\"\n",
    "status\n"
   ]
  },
  {
   "cell_type": "code",
   "execution_count": 10,
   "id": "84ac1baa-424f-4b23-99d2-64f47d264850",
   "metadata": {},
   "outputs": [
    {
     "name": "stdout",
     "output_type": "stream",
     "text": [
      "3\n",
      "4\n",
      "1\n",
      "6\n"
     ]
    }
   ],
   "source": [
    "nums = [3, 4, 1, 6]\n",
    "for x in nums:\n",
    "    print(x)"
   ]
  },
  {
   "cell_type": "code",
   "execution_count": 11,
   "id": "b06cbf38-13da-4c24-adad-4eae8c669126",
   "metadata": {},
   "outputs": [],
   "source": [
    "def neg_sum(nums):\n",
    "    total = 0\n",
    "    for number in nums:\n",
    "        if number>0:\n",
    "            continue\n",
    "        if total < -20:\n",
    "            break\n",
    "        total += number\n",
    "    return total"
   ]
  },
  {
   "cell_type": "code",
   "execution_count": 12,
   "id": "f53e22d1-636d-455f-beea-28bff52c7f70",
   "metadata": {},
   "outputs": [
    {
     "data": {
      "text/plain": [
       "0"
      ]
     },
     "execution_count": 12,
     "metadata": {},
     "output_type": "execute_result"
    }
   ],
   "source": [
    "#Q7\n",
    "neg_sum(nums)"
   ]
  },
  {
   "cell_type": "code",
   "execution_count": 13,
   "id": "382c058d-d6a2-4a4b-bd29-e9b095958c7f",
   "metadata": {},
   "outputs": [
    {
     "data": {
      "text/plain": [
       "-22"
      ]
     },
     "execution_count": 13,
     "metadata": {},
     "output_type": "execute_result"
    }
   ],
   "source": [
    "#Q8\n",
    "neg_sum([-5, 1, -11, -6, 15, -1, 8, 2])"
   ]
  },
  {
   "cell_type": "code",
   "execution_count": 14,
   "id": "3442aac6-aee7-4085-a11d-289972fe5f25",
   "metadata": {},
   "outputs": [],
   "source": [
    "header = [\"A\", \"B\", \"C\"]\n",
    "\n",
    "coord1 = {\"x\": 8, \"y\": 5}\n",
    "coord2 = {\"x\": 9, \"y\": 2, \"z\" : 4}\n",
    "coord3 = {\"x\": 3, \"y\": 1, \"z\" : 7}\n",
    "\n",
    "rows = [\n",
    "    [1, 6, 7, 8, coord1],\n",
    "    [3, 4, 9, coord2],\n",
    "    [5, 2, coord3],\n",
    "]"
   ]
  },
  {
   "cell_type": "code",
   "execution_count": 15,
   "id": "675bbb2f-cfb3-4075-ac4e-a63ca6f6e970",
   "metadata": {},
   "outputs": [
    {
     "data": {
      "text/plain": [
       "[[1, 6, 7, 8, {'x': 8, 'y': 5}],\n",
       " [3, 4, 9, {'x': 9, 'y': 2, 'z': 4}],\n",
       " [5, 2, {'x': 3, 'y': 1, 'z': 7, 'w': 6}]]"
      ]
     },
     "execution_count": 15,
     "metadata": {},
     "output_type": "execute_result"
    }
   ],
   "source": [
    "#Q9\n",
    "coord3[\"w\"] = 6\n",
    "rows"
   ]
  },
  {
   "cell_type": "code",
   "execution_count": 16,
   "id": "08842ffd-a6ed-4981-87e2-a7d0548bee82",
   "metadata": {},
   "outputs": [
    {
     "data": {
      "text/plain": [
       "8"
      ]
     },
     "execution_count": 16,
     "metadata": {},
     "output_type": "execute_result"
    }
   ],
   "source": [
    "#Q10\n",
    "rows[0][-1]['x']"
   ]
  },
  {
   "cell_type": "code",
   "execution_count": 17,
   "id": "732165c1-d7a6-4a21-9276-36f9cd837524",
   "metadata": {},
   "outputs": [
    {
     "data": {
      "text/plain": [
       "[[1, 6, 7, 8, {'x': 8, 'y': 5}],\n",
       " [3, 404, 9, {'x': 9, 'y': 2, 'z': 4}],\n",
       " [5, 2, {'x': 3, 'y': 1, 'z': 7, 'w': 6}]]"
      ]
     },
     "execution_count": 17,
     "metadata": {},
     "output_type": "execute_result"
    }
   ],
   "source": [
    "#Q11\n",
    "v2 = copy.copy(rows)\n",
    "v2[0] = 404    # first change\n",
    "v2[1][1] = 404 # second change\n",
    "rows"
   ]
  },
  {
   "cell_type": "code",
   "execution_count": 18,
   "id": "33470f8e-7ac9-445d-8788-8aac203b98f7",
   "metadata": {},
   "outputs": [
    {
     "data": {
      "text/plain": [
       "412"
      ]
     },
     "execution_count": 18,
     "metadata": {},
     "output_type": "execute_result"
    }
   ],
   "source": [
    "#Q12\n",
    "column_b_index = header.index(\"B\")\n",
    "column_b_values = [row[column_b_index] for row in rows]\n",
    "sum_b_column = sum(column_b_values)\n",
    "sum_b_column"
   ]
  },
  {
   "cell_type": "code",
   "execution_count": 19,
   "id": "d024da6d-9efe-45c0-b584-28df60c904c4",
   "metadata": {},
   "outputs": [
    {
     "data": {
      "text/plain": [
       "[[5, 2, {'x': 3, 'y': 1, 'z': 7, 'w': 6}],\n",
       " [1, 6, 7, 8, {'x': 8, 'y': 5}],\n",
       " [3, 404, 9, {'x': 9, 'y': 2, 'z': 4}]]"
      ]
     },
     "execution_count": 19,
     "metadata": {},
     "output_type": "execute_result"
    }
   ],
   "source": [
    "#Q13\n",
    "def get_column_b(row):\n",
    "    print(\"lookup B column for a row\")\n",
    "    return row[header.index(\"B\")]\n",
    "\n",
    "rows.sort(key=lambda row: row[header.index(\"B\")])\n",
    "rows\n",
    "\n"
   ]
  },
  {
   "cell_type": "code",
   "execution_count": 20,
   "id": "a724216a-ea79-44b6-b523-d806698a3a94",
   "metadata": {},
   "outputs": [],
   "source": [
    "f = open(\"usd.json\")\n",
    "data = json.load(f)\n",
    "f.close()\n",
    "#print(type(data))\n",
    "#print(data)\n"
   ]
  },
  {
   "cell_type": "code",
   "execution_count": 21,
   "id": "c1406f77-0e62-43ac-9b6c-d4d8a9db4e9a",
   "metadata": {},
   "outputs": [
    {
     "data": {
      "text/plain": [
       "1338.46"
      ]
     },
     "execution_count": 21,
     "metadata": {},
     "output_type": "execute_result"
    }
   ],
   "source": [
    "#Q14\n",
    "exchange_rate_canada = data['cad']['rate']\n",
    "cad_amount = round(1000 * exchange_rate_canada, 2)\n",
    "cad_amount"
   ]
  },
  {
   "cell_type": "code",
   "execution_count": 22,
   "id": "dc0aa222-19e4-473f-a5bc-e8463419162f",
   "metadata": {},
   "outputs": [],
   "source": [
    "def divide(x, y):\n",
    "    try:\n",
    "        result = x/y\n",
    "    except ZeroDivisionError:\n",
    "        result = float(\"nan\")\n",
    "    return result"
   ]
  },
  {
   "cell_type": "code",
   "execution_count": 23,
   "id": "dac0277d-f83c-4e25-8416-00fbb96b8cdf",
   "metadata": {},
   "outputs": [
    {
     "data": {
      "text/plain": [
       "2.5"
      ]
     },
     "execution_count": 23,
     "metadata": {},
     "output_type": "execute_result"
    }
   ],
   "source": [
    "#Q15\n",
    "divide(5, 2)"
   ]
  },
  {
   "cell_type": "code",
   "execution_count": 24,
   "id": "7717d5d8-7a2f-4e75-845e-a36bf6a178ac",
   "metadata": {},
   "outputs": [
    {
     "data": {
      "text/plain": [
       "nan"
      ]
     },
     "execution_count": 24,
     "metadata": {},
     "output_type": "execute_result"
    }
   ],
   "source": [
    "#Q16\n",
    "divide(0, 0)"
   ]
  },
  {
   "cell_type": "code",
   "execution_count": 25,
   "id": "743fda03-2077-4168-9c5e-b42050305589",
   "metadata": {},
   "outputs": [],
   "source": [
    "directory_path = 'home-computers'\n",
    "years = {}\n",
    "for filename in os.listdir(directory_path):\n",
    "    if filename.endswith(\".csv\"):\n",
    "        year = int(filename.split('.')[0][-4:]) #find the year\n",
    "        df = pd.read_csv(os.path.join(directory_path, filename), skiprows=1)\n",
    "        df = df.set_index(\"Geographic Area Name\")\n",
    "        years[year] = df"
   ]
  },
  {
   "cell_type": "code",
   "execution_count": 26,
   "id": "bd45b86a-b8d6-4fca-95ee-d7ea1a7e43ea",
   "metadata": {},
   "outputs": [
    {
     "data": {
      "text/plain": [
       "[2017, 2018, 2019, 2020, 2021]"
      ]
     },
     "execution_count": 26,
     "metadata": {},
     "output_type": "execute_result"
    }
   ],
   "source": [
    "#Q17\n",
    "keys_in_years = [year for year in years]\n",
    "keys_in_years.sort()\n",
    "keys_in_years"
   ]
  },
  {
   "cell_type": "code",
   "execution_count": 27,
   "id": "042a4ed1-2d13-4095-a6fe-aefe621ac4cb",
   "metadata": {},
   "outputs": [
    {
     "data": {
      "text/plain": [
       "2401818"
      ]
     },
     "execution_count": 27,
     "metadata": {},
     "output_type": "execute_result"
    }
   ],
   "source": [
    "#Q18\n",
    "df = years[2021]\n",
    "df.loc['Wisconsin', 'Estimate!!Total'] "
   ]
  },
  {
   "cell_type": "code",
   "execution_count": 28,
   "id": "9b0f40b5-9983-4005-99de-63a55e08d903",
   "metadata": {},
   "outputs": [
    {
     "data": {
      "text/plain": [
       "8902093"
      ]
     },
     "execution_count": 28,
     "metadata": {},
     "output_type": "execute_result"
    }
   ],
   "source": [
    "#Q19\n",
    "no_computer_2021 = df['Estimate!!Total!!No Computer'].sum()\n",
    "no_computer_2021"
   ]
  },
  {
   "cell_type": "code",
   "execution_count": 29,
   "id": "9d176f60-f6c7-42ed-a648-8c25b711faca",
   "metadata": {},
   "outputs": [
    {
     "data": {
      "text/plain": [
       "0.07836701790752577"
      ]
     },
     "execution_count": 29,
     "metadata": {},
     "output_type": "execute_result"
    }
   ],
   "source": [
    "#Q20\n",
    "max_margin_of_error_fraction = (df['Margin of Error!!Total!!No Computer'] / df['Estimate!!Total!!No Computer']).max()\n",
    "max_margin_of_error_fraction"
   ]
  },
  {
   "cell_type": "code",
   "execution_count": 30,
   "id": "baf6e091-5354-41ab-8c62-089f6daf0ec2",
   "metadata": {},
   "outputs": [
    {
     "data": {
      "text/plain": [
       "{'Illinois': 7.35,\n",
       " 'Indiana': 8.3,\n",
       " 'Iowa': 8.3,\n",
       " 'Michigan': 7.58,\n",
       " 'Minnesota': 6.18,\n",
       " 'Wisconsin': 8.03}"
      ]
     },
     "execution_count": 30,
     "metadata": {},
     "output_type": "execute_result"
    }
   ],
   "source": [
    "#Q21\n",
    "percentage_without_compputer_dict = {}\n",
    "target_states = ['Illinois', 'Indiana', 'Iowa', 'Michigan', 'Minnesota', 'Wisconsin']\n",
    "targeted_states_df = df[df.index.isin(target_states)]\n",
    "percentage_without_computer = round(targeted_states_df['Estimate!!Total!!No Computer']/targeted_states_df['Estimate!!Total']*100, 2)\n",
    "percentage_without_computer_dict = {state: percentage_without_computer[state] for state in target_states}\n",
    "percentage_without_computer_dict\n",
    "    "
   ]
  },
  {
   "cell_type": "code",
   "execution_count": 31,
   "id": "60a6d3fb-e3d8-45e3-be71-2a1fdce06d1d",
   "metadata": {},
   "outputs": [
    {
     "data": {
      "image/png": "[encoded data removed]",
      "text/plain": [
       "<Figure size 640x480 with 1 Axes>"
      ]
     },
     "metadata": {},
     "output_type": "display_data"
    }
   ],
   "source": [
    "#Q22\n",
    "\n",
    "result_series = pd.Series(percentage_without_computer_dict, dtype=float)\n",
    "ax = result_series.plot.bar()\n",
    "ax.set_xlabel('Geographic Area Names')\n",
    "ax.set_ylabel('Percent of Households w/o Computers')\n",
    "plt.show()\n"
   ]
  },
  {
   "cell_type": "code",
   "execution_count": 32,
   "id": "fddfad84-a479-4e9c-91b5-c4ab3d894230",
   "metadata": {},
   "outputs": [
    {
     "data": {
      "image/png": "[encoded data removed]",
      "text/plain": [
       "<Figure size 640x480 with 1 Axes>"
      ]
     },
     "metadata": {},
     "output_type": "display_data"
    }
   ],
   "source": [
    "#Q23\n",
    "custom_ticks = keys_in_years\n",
    "wi_household_without_pc_series = pd.Series({\n",
    "    year: years[year].loc['Wisconsin', 'Estimate!!Total!!No Computer']/1000\n",
    "    for year in sorted(keys_in_years)\n",
    "})\n",
    "wi_household_without_pc_series.plot()\n",
    "plt.xticks(custom_ticks)\n",
    "plt.xlabel('Year') \n",
    "plt.ylabel('WI Households without Computers (thousands)') \n",
    "plt.show()\n",
    "\n"
   ]
  },
  {
   "cell_type": "code",
   "execution_count": 33,
   "id": "60bd3a23-ba30-48ca-8b9f-3c1cdf41419e",
   "metadata": {},
   "outputs": [
    {
     "data": {
      "image/png": "[encoded data removed]",
      "text/plain": [
       "<Figure size 640x480 with 1 Axes>"
      ]
     },
     "metadata": {},
     "output_type": "display_data"
    }
   ],
   "source": [
    "#Q24\n",
    "smartphones_column = \"Estimate!!Total!!Has one or more types of computing devices!!Smartphone\"\n",
    "tablets_column = \"Estimate!!Total!!Has one or more types of computing devices!!Tablet or other portable wireless computer\"\n",
    "plt.scatter(df[smartphones_column]/1e6, df[tablets_column]/1e6)\n",
    "plt.xlabel(\"Smartphones (millions)\")\n",
    "plt.ylabel(\"Tablets (millions)\")\n",
    "plt.show()"
   ]
  },
  {
   "cell_type": "code",
   "execution_count": 34,
   "id": "14f55820-7183-4634-b056-de0a5fd52f53",
   "metadata": {},
   "outputs": [
    {
     "data": {
      "text/plain": [
       "'commit 660994efc761efdfd49ca442b73f6712dc77b6cf'"
      ]
     },
     "execution_count": 34,
     "metadata": {},
     "output_type": "execute_result"
    }
   ],
   "source": [
    "#Q25\n",
    "text = str(subprocess.check_output([\"git\", \"log\"], cwd = 'flask'))\n",
    "\n",
    "lines = text.split(\"\\\\n\")\n",
    "commit_ids = []\n",
    "for line in lines:\n",
    "    if line.startswith(\"commit\"):\n",
    "        commit_id = line.split()[1] \n",
    "        commit_ids.append(commit_id)\n",
    "\n",
    "first_line = lines[0][2:]\n",
    "first_line"
   ]
  },
  {
   "cell_type": "code",
   "execution_count": 35,
   "id": "dd67ac5a-6603-4418-b472-0869e460963e",
   "metadata": {},
   "outputs": [
    {
     "data": {
      "text/plain": [
       "['a9d4ea81da28ee9c894bf9d45adc4cfa9d52fddc',\n",
       " '727c701686c18c4a27ca523eb0c5862d497be24e',\n",
       " '4edec48b74dbb9d571e927b69b24c30ec0624975',\n",
       " '625eba4bb403296a8bbc1e72cc9cf4a5126f6c02',\n",
       " '4aa76212d1be9b17a57249549c2a73fb10b6cda8',\n",
       " '3b36bef2e6165bb4dad73d17f23ee1879e99f497',\n",
       " '44b42e0fbd93d86e0f4e929bda8e5fb63e81035d',\n",
       " '4ec7d2a0d8eac4f915dc0d38a886cd57045bb0c4',\n",
       " 'b15ad394279fc3b7f998fa56857f334a7c0156f6',\n",
       " '33850c0ebd23ae615e6823993d441f46d80b1ff0']"
      ]
     },
     "execution_count": 35,
     "metadata": {},
     "output_type": "execute_result"
    }
   ],
   "source": [
    "#Q26\n",
    "last_ten_commit_ids = commit_ids[-10:]\n",
    "last_ten_commit_ids"
   ]
  },
  {
   "cell_type": "code",
   "execution_count": 36,
   "id": "e6be9267-bea7-40f7-9993-ac38a3ae3b21",
   "metadata": {},
   "outputs": [
    {
     "name": "stderr",
     "output_type": "stream",
     "text": [
      "Note: switching to 'f878919753a909e45b2d5448aa175f4f9129ff24'.\n",
      "\n",
      "You are in 'detached HEAD' state. You can look around, make experimental\n",
      "changes and commit them, and you can discard any commits you make in this\n",
      "state without impacting any branches by switching back to a branch.\n",
      "\n",
      "If you want to create a new branch to retain commits you create, you may\n",
      "do so (now or later) by using -c with the switch command. Example:\n",
      "\n",
      "  git switch -c <new-branch-name>\n",
      "\n",
      "Or undo this operation with:\n",
      "\n",
      "  git switch -\n",
      "\n",
      "Turn off this advice by setting config variable advice.detachedHead to false\n",
      "\n",
      "HEAD is now at f8789197 With -> with in headline\n"
     ]
    },
    {
     "data": {
      "text/plain": [
       "\"\\n                          // Flask //\\n\\n         because sometimes a pocket knife is not enough\\n\\n\\n    ~ What is Flask?\\n\\n      Flask is a microframework for Python based on Werkzeug\\n      and Jinja2.  It's intended for small scale applications\\n      and was development with best intentions in mind.\\n\\n    ~ Is it ready?\\n\\n      A preview release is out now, and I'm hoping for some\\n      input about what you want from a microframework and\\n      how it should look like.  Consider the API to slightly\\n      improve over time.\\n\\n    ~ What do I need?\\n\\n      Jinja 2.4 and Werkzeug 0.6.1.  `easy_install` will\\n      install them for you if you do `easy_install Flask==dev`.\\n      I encourage you to use a virtualenv.  Check the docs for\\n      complete installation and usage instructions.\\n\\n    ~ Where are the docs?\\n\\n      Go to http://flask.pocoo.org/ for a prebuild version of\\n      the current documentation.  Otherwise build them yourself\\n      from the sphinx sources in the docs folder.\\n\""
      ]
     },
     "execution_count": 36,
     "metadata": {},
     "output_type": "execute_result"
    }
   ],
   "source": [
    "#Q27\n",
    "text = subprocess.check_output([\"git\", \"checkout\", commit_ids[-100]], cwd = 'flask', encoding = 'utf-8')\n",
    "\n",
    "with open(\"flask/README\", \"r\") as file:\n",
    "   readme_content = file.read()\n",
    "    \n",
    "readme_content"
   ]
  },
  {
   "cell_type": "code",
   "execution_count": 37,
   "id": "8da2f7c7-e23e-4539-8853-8f3c0070c3a3",
   "metadata": {},
   "outputs": [
    {
     "name": "stderr",
     "output_type": "stream",
     "text": [
      "Previous HEAD position was f8789197 With -> with in headline\n",
      "Switched to branch 'main'\n"
     ]
    },
    {
     "data": {
      "text/plain": [
       "{'pallets': 204,\n",
       " 'pgjones': 14,\n",
       " 'greyli': 42,\n",
       " 'ThiefMaster': 11,\n",
       " 'davidism': 45,\n",
       " 'untitaker': 20,\n",
       " 'ThomasWaldmann': 13,\n",
       " 'SimonSapin': 11}"
      ]
     },
     "execution_count": 37,
     "metadata": {},
     "output_type": "execute_result"
    }
   ],
   "source": [
    "#Q28\n",
    "text = str(subprocess.check_output([\"git\", \"checkout\", \"main\"], cwd = 'flask'))\n",
    "\n",
    "git_log_lines = lines\n",
    "username_counts = {}\n",
    "\n",
    "for line in git_log_lines:\n",
    "    try:\n",
    "        if \"Merge pull request\" in line:\n",
    "            username = line.split(\"Merge pull request #\")[1].split(\"/\")[0].split(\" \")[2]\n",
    "            \n",
    "            if username in username_counts:\n",
    "                username_counts[username] += 1\n",
    "            else:\n",
    "                username_counts[username] = 1\n",
    "    except IndexError:\n",
    "        continue\n",
    "\n",
    "username_counts_filtered = {username: count for username, count in username_counts.items() if count >= 10}\n",
    "username_counts_filtered\n",
    "        "
   ]
  },
  {
   "cell_type": "code",
   "execution_count": 38,
   "id": "b8e18b3a-f8a2-44fa-b54a-c734cdd9bb1a",
   "metadata": {},
   "outputs": [
    {
     "data": {
      "text/plain": [
       "'ERROR: unknown command \"instal\" - maybe you meant \"install\"\\n'"
      ]
     },
     "execution_count": 38,
     "metadata": {},
     "output_type": "execute_result"
    }
   ],
   "source": [
    "#Q29\n",
    "try:\n",
    "    msg = subprocess.check_output([\"pip3\", \"instal\"], stderr=subprocess.STDOUT)\n",
    "except subprocess.CalledProcessError as e:\n",
    "    msg = e.output\n",
    "output = msg.decode('utf-8')\n",
    "output"
   ]
  },
  {
   "cell_type": "code",
   "execution_count": 39,
   "id": "cf1831d8-ba9d-483b-93fc-10584afe5fdc",
   "metadata": {},
   "outputs": [
    {
     "data": {
      "image/png": "[encoded data removed]",
      "text/plain": [
       "<Figure size 640x480 with 1 Axes>"
      ]
     },
     "metadata": {},
     "output_type": "display_data"
    }
   ],
   "source": [
    "#Q30\n",
    "\n",
    "def rand_df(rows):\n",
    "    return pd.DataFrame(np.random.randint(10, size=(rows, 5)),\n",
    "                        columns=[\"A\", \"B\", \"C\", \"D\", \"E\"],\n",
    "                        index=[f\"r{i}\" for i in range(1, rows+1)])\n",
    "\n",
    "def measure_iterrows(rows):\n",
    "    df = rand_df(rows)\n",
    "    t0 = time.time()\n",
    "    for row in df.iterrows():\n",
    "        pass\n",
    "    t1 = time.time()\n",
    "    return (t1 - t0) * 1000  # Convert to milliseconds\n",
    "\n",
    "def measure_itertuples(rows):\n",
    "    df = rand_df(rows)\n",
    "    t0 = time.time()\n",
    "    for row in df.itertuples():\n",
    "        pass\n",
    "    t1 = time.time()\n",
    "    return (t1 - t0) * 1000 \n",
    "\n",
    "sizes = [100, 500, 1000, 2000, 5000]\n",
    "data = {'iterrows': [], 'itertuples': []}\n",
    "\n",
    "for size in sizes:\n",
    "    data['iterrows'].append(measure_iterrows(size))\n",
    "    data['itertuples'].append(measure_itertuples(size))\n",
    "\n",
    "times_df = pd.DataFrame(data, index=sizes)\n",
    "\n",
    "times_df.plot.line()\n",
    "plt.xlabel('Rows')\n",
    "plt.ylabel('Milliseconds')\n",
    "plt.show()"
   ]
  },
  {
   "cell_type": "code",
   "execution_count": 40,
   "id": "a4a9ec71-0d32-4413-ac5f-d6c5c48af71b",
   "metadata": {},
   "outputs": [
    {
     "data": {
      "image/png": "[encoded data removed]",
      "text/plain": [
       "<Figure size 640x480 with 1 Axes>"
      ]
     },
     "metadata": {},
     "output_type": "display_data"
    }
   ],
   "source": [
    "#Q31\n",
    "def measure_loc(df):\n",
    "    total = 0\n",
    "    t0 = time.time()\n",
    "    for idx in df.index:\n",
    "        for col in df.columns:\n",
    "            total += df.loc[idx, col]\n",
    "    t1 = time.time()\n",
    "    return (t1 - t0) * 1000 \n",
    "\n",
    "def measure_at(df):\n",
    "    total = 0\n",
    "    t0 = time.time()\n",
    "    for idx in df.index:\n",
    "        for col in df.columns:\n",
    "            total += df.at[idx, col]\n",
    "    t1 = time.time()\n",
    "    return (t1 - t0) * 1000 \n",
    "\n",
    "sizes = [100, 500, 1000, 2000, 5000]\n",
    "data = {'loc': [], 'at': []}\n",
    "\n",
    "for size in sizes:\n",
    "    df = rand_df(size)\n",
    "    data['loc'].append(measure_loc(df))\n",
    "    data['at'].append(measure_at(df))\n",
    "\n",
    "times_df = pd.DataFrame(data, index=sizes)\n",
    "\n",
    "times_df.plot.line()\n",
    "plt.xlabel('Rows')\n",
    "plt.ylabel('Milliseconds')\n",
    "plt.show()"
   ]
  },
  {
   "cell_type": "code",
   "execution_count": 41,
   "id": "c7e00803-0d0d-43cc-b3d6-f8dd5d5b1fd2",
   "metadata": {},
   "outputs": [
    {
     "data": {
      "image/png": "[encoded data removed]",
      "text/plain": [
       "<Figure size 640x480 with 1 Axes>"
      ]
     },
     "metadata": {},
     "output_type": "display_data"
    }
   ],
   "source": [
    "#Q32\n",
    "def apply_laugh(df):\n",
    "    t0 = time.time()\n",
    "    result = df[\"A\"].apply(laugh).tolist()\n",
    "    t1 = time.time()\n",
    "    return (t1 - t0) * 1000  \n",
    "\n",
    "def loop_laugh(df):\n",
    "    t0 = time.time()\n",
    "    result = []\n",
    "    for val in df[\"A\"]:\n",
    "        result.append(laugh(val))\n",
    "    t1 = time.time()\n",
    "    return (t1 - t0) * 1000\n",
    "\n",
    "def laugh(x):\n",
    "    return \"qwerty\" * x\n",
    "\n",
    "sizes = [1000, 5000, 10000, 15000, 20000]\n",
    "data = {'apply': [], 'loop': []}\n",
    "\n",
    "for size in sizes:\n",
    "    df = rand_df(size)\n",
    "    data['apply'].append(apply_laugh(df))\n",
    "    data['loop'].append(loop_laugh(df))\n",
    "\n",
    "times_df = pd.DataFrame(data, index=sizes)\n",
    "\n",
    "times_df.plot.line()\n",
    "plt.xlabel('Rows')\n",
    "plt.ylabel('Milliseconds')\n",
    "plt.show()\n"
   ]
  },
  {
   "cell_type": "code",
   "execution_count": null,
   "id": "0d46b0d5-9e69-4285-a330-a9de0c9b2a20",
   "metadata": {},
   "outputs": [],
   "source": []
  }
 ],
 "metadata": {
  "kernelspec": {
   "display_name": "Python 3 (ipykernel)",
   "language": "python",
   "name": "python3"
  },
  "language_info": {
   "codemirror_mode": {
    "name": "ipython",
    "version": 3
   },
   "file_extension": ".py",
   "mimetype": "text/x-python",
   "name": "python",
   "nbconvert_exporter": "python",
   "pygments_lexer": "ipython3",
   "version": "3.10.12"
  }
 },
 "nbformat": 4,
 "nbformat_minor": 5
}
