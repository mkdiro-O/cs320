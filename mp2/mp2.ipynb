{
 "cells": [
  {
   "cell_type": "code",
   "execution_count": 1,
   "id": "42e30ec6-8bca-41a1-93fc-85356640bc3c",
   "metadata": {},
   "outputs": [],
   "source": [
    "# project: p2\n",
    "# submitter: Megan Kuo\n",
    "# partner: none\n",
    "# hours: ????"
   ]
  },
  {
   "cell_type": "code",
   "execution_count": 2,
   "id": "7a5bcc0e-2d73-4174-ab2b-aa658d1026d6",
   "metadata": {},
   "outputs": [],
   "source": [
    "import loans\n",
    "import search\n",
    "import time\n",
    "import matplotlib.pyplot as plt\n",
    "import numpy as np\n"
   ]
  },
  {
   "cell_type": "code",
   "execution_count": 3,
   "id": "2661d2fb-473d-4a9f-87f0-a44193455cd7",
   "metadata": {
    "tags": []
   },
   "outputs": [],
   "source": [
    "#uwcu = loans.Bank(\"University of Wisconsin Credit Union\")\n",
    "#print(uwcu.lei)"
   ]
  },
  {
   "cell_type": "code",
   "execution_count": 4,
   "id": "c85c6e93-cb98-455c-b2e4-58d5380283ce",
   "metadata": {},
   "outputs": [],
   "source": [
    "#uwcu.load_from_zip(\"./wi.zip\")"
   ]
  },
  {
   "cell_type": "code",
   "execution_count": 5,
   "id": "ec9062ed-14f0-4bc1-a6c3-d14cd2f440f9",
   "metadata": {},
   "outputs": [],
   "source": [
    "#print(uwcu[-1]) #print last loan\n",
    "#print(len(uwcu)) #print how many loans"
   ]
  },
  {
   "cell_type": "code",
   "execution_count": 6,
   "id": "d16924bb-f441-4eea-ae58-8a99b072adf0",
   "metadata": {},
   "outputs": [
    {
     "data": {
      "text/plain": [
       "2.957772277227724"
      ]
     },
     "execution_count": 6,
     "metadata": {},
     "output_type": "execute_result"
    }
   ],
   "source": [
    "#Q1\n",
    "csb = loans.Bank(\"Charles Schwab Bank, SSB\")\n",
    "csb.load_from_zip(\"./wi.zip\")\n",
    "csb.average_interest_rate()"
   ]
  },
  {
   "cell_type": "code",
   "execution_count": 7,
   "id": "8a07311a-98ca-48a4-bb78-099b2ce43f2f",
   "metadata": {},
   "outputs": [
    {
     "data": {
      "text/plain": [
       "1.7227722772277227"
      ]
     },
     "execution_count": 7,
     "metadata": {},
     "output_type": "execute_result"
    }
   ],
   "source": [
    "#Q2\n",
    "average_applicants = csb.num_applicants()\n",
    "average_applicants"
   ]
  },
  {
   "cell_type": "code",
   "execution_count": 8,
   "id": "cdf27ddc-5ee0-406c-98ae-8e3708a2ceee",
   "metadata": {},
   "outputs": [
    {
     "data": {
      "text/plain": [
       "{'25-34': 5, '35-44': 25, '45-54': 36, '55-64': 55, '65-74': 41, '>74': 12}"
      ]
     },
     "execution_count": 8,
     "metadata": {},
     "output_type": "execute_result"
    }
   ],
   "source": [
    "#Q3\n",
    "dist_age = csb.ages_dict()\n",
    "dist_age"
   ]
  },
  {
   "cell_type": "code",
   "execution_count": 9,
   "id": "5e56eef9-dba3-458b-9e4a-e4820e5a6462",
   "metadata": {},
   "outputs": [
    {
     "data": {
      "text/plain": [
       "1"
      ]
     },
     "execution_count": 9,
     "metadata": {},
     "output_type": "execute_result"
    }
   ],
   "source": [
    "#Q4\n",
    "missing_count = 0\n",
    "bst = search.BST()\n",
    "for loan in csb.loans:\n",
    "    interest_rate = loan.interest_rate\n",
    "    loan_object = loan\n",
    "    if interest_rate == -1:\n",
    "        missing_count += 1\n",
    "    else:\n",
    "        bst.add(interest_rate, loan_object)\n",
    "missing_count"
   ]
  },
  {
   "cell_type": "code",
   "execution_count": 10,
   "id": "33b44c3d-af20-487e-96a1-f1a902614c4b",
   "metadata": {},
   "outputs": [],
   "source": [
    "#def get_height(node):\n",
    "    \n",
    "#    if node == None:\n",
    "#        return 1\n",
    "\n",
    "#    left_height = get_height(node.left)\n",
    "#    right_height = get_height(node.right)\n",
    "    \n",
    "#    return max(left_height, right_height) + 1"
   ]
  },
  {
   "cell_type": "code",
   "execution_count": 11,
   "id": "a9a5c213-d745-4b0c-abbf-630ec5417c33",
   "metadata": {},
   "outputs": [
    {
     "data": {
      "text/plain": [
       "9"
      ]
     },
     "execution_count": 11,
     "metadata": {},
     "output_type": "execute_result"
    }
   ],
   "source": [
    "#Q5\n",
    "tree_height = bst.get_height(bst.root)\n",
    "tree_height"
   ]
  },
  {
   "cell_type": "code",
   "execution_count": 12,
   "id": "3dbdbaee-8cbb-418b-ab3b-c31fc965e253",
   "metadata": {},
   "outputs": [],
   "source": [
    "uwcu = loans.Bank(\"University of Wisconsin Credit Union\")\n",
    "uwcu.load_from_zip(\"./wi.zip\")\n",
    "uwbst = search.BST()"
   ]
  },
  {
   "cell_type": "code",
   "execution_count": 13,
   "id": "3e62fe15-8a0b-4e57-8323-282fa20ab405",
   "metadata": {},
   "outputs": [
    {
     "data": {
      "image/png": "[encoded data removed]",
      "text/plain": [
       "<Figure size 640x480 with 1 Axes>"
      ]
     },
     "metadata": {},
     "output_type": "display_data"
    }
   ],
   "source": [
    "#Q6\n",
    "loan_count = []\n",
    "elapsed_time = []\n",
    "\n",
    "start_time = time.time()\n",
    "count = 0\n",
    "\n",
    "for loan in uwcu.loans:\n",
    "    start = time.time()\n",
    "    uwbst.add(loan.interest_rate, loan)\n",
    "    end = time.time()\n",
    "    count += 1\n",
    "    loan_count.append(count)\n",
    "    elapsed_time.append((end-start_time)*1000)\n",
    "\n",
    "plt.plot(loan_count, elapsed_time)   \n",
    "plt.xlabel('BST Adds')\n",
    "plt.ylabel('Total Elpased Milliseconds')\n",
    "plt.show()"
   ]
  },
  {
   "cell_type": "code",
   "execution_count": 14,
   "id": "bb267017-9200-47a2-963a-ae39b4d8a8fc",
   "metadata": {},
   "outputs": [
    {
     "data": {
      "image/png": "[encoded data removed]",
      "text/plain": [
       "<Figure size 640x480 with 1 Axes>"
      ]
     },
     "metadata": {},
     "output_type": "display_data"
    }
   ],
   "source": [
    "#Q7\n",
    "start_time_loop = time.time()\n",
    "for loan in uwcu:\n",
    "    if loan.interest_rate == -1:\n",
    "        missing_count += 1\n",
    "elapsed_time_loop = (time.time() - start_time_loop) * 1000 \n",
    "\n",
    "start_time_bst = time.time()\n",
    "bst_len = len(uwbst[-1])\n",
    "elapsed_time_bst = (time.time() - start_time_bst) * 1000 \n",
    "\n",
    "methods = ['Loop', 'BST']\n",
    "times = [elapsed_time_loop, elapsed_time_bst]\n",
    "\n",
    "plt.bar(methods, times)\n",
    "plt.ylabel('Milliseconds')\n",
    "plt.show()"
   ]
  },
  {
   "cell_type": "code",
   "execution_count": 15,
   "id": "3acac420-3f74-4774-adfd-f12890e62ac0",
   "metadata": {},
   "outputs": [
    {
     "data": {
      "image/png": "[encoded data removed]",
      "text/plain": [
       "<Figure size 640x480 with 1 Axes>"
      ]
     },
     "metadata": {},
     "output_type": "display_data"
    }
   ],
   "source": [
    "#Q8\n",
    "race_selection_counts = {}\n",
    "\n",
    "for loan in uwcu.loans:\n",
    "    for applicant in loan.applicants:\n",
    "        num_race_selections = len(applicant.race)\n",
    "        if num_race_selections in race_selection_counts:\n",
    "            race_selection_counts[num_race_selections] += 1\n",
    "        else:\n",
    "            race_selection_counts[num_race_selections] = 1\n",
    "            \n",
    "num_selections = list(race_selection_counts.keys())\n",
    "counts = list(race_selection_counts.values())\n",
    "\n",
    "plt.bar(num_selections, counts)\n",
    "plt.xlabel('Number of Race Identities Selected By Applicants')\n",
    "plt.ylabel('Number of Applicants')\n",
    "plt.show()"
   ]
  },
  {
   "cell_type": "code",
   "execution_count": 16,
   "id": "372d6465-b730-44bf-a66e-483b11ee399c",
   "metadata": {},
   "outputs": [
    {
     "data": {
      "text/plain": [
       "9"
      ]
     },
     "execution_count": 16,
     "metadata": {},
     "output_type": "execute_result"
    }
   ],
   "source": [
    "#Q9\n",
    "leaf_nodes = uwbst.num_leaf_nodes()\n",
    "leaf_nodes"
   ]
  },
  {
   "cell_type": "code",
   "execution_count": 17,
   "id": "7091e066-93ed-4674-ad39-72fa237ab040",
   "metadata": {},
   "outputs": [
    {
     "data": {
      "text/plain": [
       "5.0"
      ]
     },
     "execution_count": 17,
     "metadata": {},
     "output_type": "execute_result"
    }
   ],
   "source": [
    "#Q10\n",
    "fourth_largest = uwbst.find_keys(4)\n",
    "fourth_largest"
   ]
  }
 ],
 "metadata": {
  "kernelspec": {
   "display_name": "Python 3 (ipykernel)",
   "language": "python",
   "name": "python3"
  },
  "language_info": {
   "codemirror_mode": {
    "name": "ipython",
    "version": 3
   },
   "file_extension": ".py",
   "mimetype": "text/x-python",
   "name": "python",
   "nbconvert_exporter": "python",
   "pygments_lexer": "ipython3",
   "version": "3.10.12"
  }
 },
 "nbformat": 4,
 "nbformat_minor": 5
}
